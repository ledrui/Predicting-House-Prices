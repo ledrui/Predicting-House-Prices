{
 "cells": [
  {
   "cell_type": "code",
   "execution_count": 1,
   "metadata": {
    "collapsed": true
   },
   "outputs": [],
   "source": [
    "import graphlab as gl"
   ]
  },
  {
   "cell_type": "code",
   "execution_count": 2,
   "metadata": {
    "collapsed": false
   },
   "outputs": [
    {
     "name": "stderr",
     "output_type": "stream",
     "text": [
      "[INFO] This non-commercial license of GraphLab Create is assigned to iliassweb@gmail.comand will expire on September 22, 2016. For commercial licensing options, visit https://dato.com/buy/.\n",
      "\n",
      "[INFO] Start server at: ipc:///tmp/graphlab_server-16203 - Server binary: /home/zax/anaconda/lib/python2.7/site-packages/graphlab/unity_server - Server log: /tmp/graphlab_server_1443512832.log\n",
      "[INFO] GraphLab Server Version: 1.6.1\n"
     ]
    },
    {
     "name": "stdout",
     "output_type": "stream",
     "text": [
      "PROGRESS: Downloading http://s3.amazonaws.com/dato-datasets/millionsong/song_data.csv to /var/tmp/graphlab-zax/16203/d84209ef-feb0-4d66-9dbb-6b5ce9e9937e.csv\n",
      "PROGRESS: Finished parsing file http://s3.amazonaws.com/dato-datasets/millionsong/song_data.csv\n",
      "PROGRESS: Parsing completed. Parsed 100 lines in 1.49752 secs.\n",
      "------------------------------------------------------\n",
      "Inferred types from first line of file as \n",
      "column_type_hints=[str,str,str,str,int]\n",
      "If parsing fails due to incorrect types, you can correct\n",
      "the inferred type list above and pass it to read_csv in\n",
      "the column_type_hints argument\n",
      "------------------------------------------------------\n",
      "PROGRESS: Read 637410 lines. Lines per second: 435946\n",
      "PROGRESS: Finished parsing file http://s3.amazonaws.com/dato-datasets/millionsong/song_data.csv\n",
      "PROGRESS: Parsing completed. Parsed 1000000 lines in 1.71802 secs.\n"
     ]
    }
   ],
   "source": [
    "url = 'http://s3.amazonaws.com/dato-datasets/millionsong/song_data.csv'\n",
    "song = gl.SFrame.read_csv(url)"
   ]
  },
  {
   "cell_type": "code",
   "execution_count": 4,
   "metadata": {
    "collapsed": false
   },
   "outputs": [
    {
     "name": "stdout",
     "output_type": "stream",
     "text": [
      "Canvas is accessible via web browser at the URL: http://localhost:51504/index.html\n",
      "Opening Canvas in default web browser.\n"
     ]
    }
   ],
   "source": [
    "song.show()"
   ]
  },
  {
   "cell_type": "code",
   "execution_count": 5,
   "metadata": {
    "collapsed": false
   },
   "outputs": [
    {
     "data": {
      "text/html": [
       "<div style=\"max-height:1000px;max-width:1500px;overflow:auto;\"><table frame=\"box\" rules=\"cols\">\n",
       "    <tr>\n",
       "        <th style=\"padding-left: 1em; padding-right: 1em; text-align: center\">song_id</th>\n",
       "        <th style=\"padding-left: 1em; padding-right: 1em; text-align: center\">title</th>\n",
       "        <th style=\"padding-left: 1em; padding-right: 1em; text-align: center\">release</th>\n",
       "        <th style=\"padding-left: 1em; padding-right: 1em; text-align: center\">artist_name</th>\n",
       "        <th style=\"padding-left: 1em; padding-right: 1em; text-align: center\">year</th>\n",
       "    </tr>\n",
       "    <tr>\n",
       "        <td style=\"padding-left: 1em; padding-right: 1em; text-align: center; vertical-align: top\">SOQMMHC12AB0180CB8</td>\n",
       "        <td style=\"padding-left: 1em; padding-right: 1em; text-align: center; vertical-align: top\">Silent Night</td>\n",
       "        <td style=\"padding-left: 1em; padding-right: 1em; text-align: center; vertical-align: top\">Monster Ballads X-Mas</td>\n",
       "        <td style=\"padding-left: 1em; padding-right: 1em; text-align: center; vertical-align: top\">Faster Pussy cat</td>\n",
       "        <td style=\"padding-left: 1em; padding-right: 1em; text-align: center; vertical-align: top\">2003</td>\n",
       "    </tr>\n",
       "    <tr>\n",
       "        <td style=\"padding-left: 1em; padding-right: 1em; text-align: center; vertical-align: top\">SOVFVAK12A8C1350D9</td>\n",
       "        <td style=\"padding-left: 1em; padding-right: 1em; text-align: center; vertical-align: top\">Tanssi vaan</td>\n",
       "        <td style=\"padding-left: 1em; padding-right: 1em; text-align: center; vertical-align: top\">Karkuteillä</td>\n",
       "        <td style=\"padding-left: 1em; padding-right: 1em; text-align: center; vertical-align: top\">Karkkiautomaatti</td>\n",
       "        <td style=\"padding-left: 1em; padding-right: 1em; text-align: center; vertical-align: top\">1995</td>\n",
       "    </tr>\n",
       "    <tr>\n",
       "        <td style=\"padding-left: 1em; padding-right: 1em; text-align: center; vertical-align: top\">SOGTUKN12AB017F4F1</td>\n",
       "        <td style=\"padding-left: 1em; padding-right: 1em; text-align: center; vertical-align: top\">No One Could Ever</td>\n",
       "        <td style=\"padding-left: 1em; padding-right: 1em; text-align: center; vertical-align: top\">Butter</td>\n",
       "        <td style=\"padding-left: 1em; padding-right: 1em; text-align: center; vertical-align: top\">Hudson Mohawke</td>\n",
       "        <td style=\"padding-left: 1em; padding-right: 1em; text-align: center; vertical-align: top\">2006</td>\n",
       "    </tr>\n",
       "    <tr>\n",
       "        <td style=\"padding-left: 1em; padding-right: 1em; text-align: center; vertical-align: top\">SOBNYVR12A8C13558C</td>\n",
       "        <td style=\"padding-left: 1em; padding-right: 1em; text-align: center; vertical-align: top\">Si Vos Querés</td>\n",
       "        <td style=\"padding-left: 1em; padding-right: 1em; text-align: center; vertical-align: top\">De Culo</td>\n",
       "        <td style=\"padding-left: 1em; padding-right: 1em; text-align: center; vertical-align: top\">Yerba Brava</td>\n",
       "        <td style=\"padding-left: 1em; padding-right: 1em; text-align: center; vertical-align: top\">2003</td>\n",
       "    </tr>\n",
       "    <tr>\n",
       "        <td style=\"padding-left: 1em; padding-right: 1em; text-align: center; vertical-align: top\">SOHSBXH12A8C13B0DF</td>\n",
       "        <td style=\"padding-left: 1em; padding-right: 1em; text-align: center; vertical-align: top\">Tangle Of Aspens</td>\n",
       "        <td style=\"padding-left: 1em; padding-right: 1em; text-align: center; vertical-align: top\">Rene Ablaze Presents<br>Winter Sessions ...</td>\n",
       "        <td style=\"padding-left: 1em; padding-right: 1em; text-align: center; vertical-align: top\">Der Mystic</td>\n",
       "        <td style=\"padding-left: 1em; padding-right: 1em; text-align: center; vertical-align: top\">0</td>\n",
       "    </tr>\n",
       "    <tr>\n",
       "        <td style=\"padding-left: 1em; padding-right: 1em; text-align: center; vertical-align: top\">SOZVAPQ12A8C13B63C</td>\n",
       "        <td style=\"padding-left: 1em; padding-right: 1em; text-align: center; vertical-align: top\">Symphony No. 1 G minor<br>\"Sinfonie ...</td>\n",
       "        <td style=\"padding-left: 1em; padding-right: 1em; text-align: center; vertical-align: top\">Berwald: Symphonies Nos.<br>1/2/3/4 ...</td>\n",
       "        <td style=\"padding-left: 1em; padding-right: 1em; text-align: center; vertical-align: top\">David Montgomery</td>\n",
       "        <td style=\"padding-left: 1em; padding-right: 1em; text-align: center; vertical-align: top\">0</td>\n",
       "    </tr>\n",
       "    <tr>\n",
       "        <td style=\"padding-left: 1em; padding-right: 1em; text-align: center; vertical-align: top\">SOQVRHI12A6D4FB2D7</td>\n",
       "        <td style=\"padding-left: 1em; padding-right: 1em; text-align: center; vertical-align: top\">We Have Got Love</td>\n",
       "        <td style=\"padding-left: 1em; padding-right: 1em; text-align: center; vertical-align: top\">Strictly The Best Vol. 34</td>\n",
       "        <td style=\"padding-left: 1em; padding-right: 1em; text-align: center; vertical-align: top\">Sasha / Turbulence</td>\n",
       "        <td style=\"padding-left: 1em; padding-right: 1em; text-align: center; vertical-align: top\">0</td>\n",
       "    </tr>\n",
       "    <tr>\n",
       "        <td style=\"padding-left: 1em; padding-right: 1em; text-align: center; vertical-align: top\">SOEYRFT12AB018936C</td>\n",
       "        <td style=\"padding-left: 1em; padding-right: 1em; text-align: center; vertical-align: top\">2 Da Beat Ch'yall</td>\n",
       "        <td style=\"padding-left: 1em; padding-right: 1em; text-align: center; vertical-align: top\">Da Bomb</td>\n",
       "        <td style=\"padding-left: 1em; padding-right: 1em; text-align: center; vertical-align: top\">Kris Kross</td>\n",
       "        <td style=\"padding-left: 1em; padding-right: 1em; text-align: center; vertical-align: top\">1993</td>\n",
       "    </tr>\n",
       "    <tr>\n",
       "        <td style=\"padding-left: 1em; padding-right: 1em; text-align: center; vertical-align: top\">SOPMIYT12A6D4F851E</td>\n",
       "        <td style=\"padding-left: 1em; padding-right: 1em; text-align: center; vertical-align: top\">Goodbye</td>\n",
       "        <td style=\"padding-left: 1em; padding-right: 1em; text-align: center; vertical-align: top\">Danny Boy</td>\n",
       "        <td style=\"padding-left: 1em; padding-right: 1em; text-align: center; vertical-align: top\">Joseph Locke</td>\n",
       "        <td style=\"padding-left: 1em; padding-right: 1em; text-align: center; vertical-align: top\">0</td>\n",
       "    </tr>\n",
       "    <tr>\n",
       "        <td style=\"padding-left: 1em; padding-right: 1em; text-align: center; vertical-align: top\">SOJCFMH12A8C13B0C2</td>\n",
       "        <td style=\"padding-left: 1em; padding-right: 1em; text-align: center; vertical-align: top\">Mama_ mama can't you see<br>? ...</td>\n",
       "        <td style=\"padding-left: 1em; padding-right: 1em; text-align: center; vertical-align: top\">March to cadence with the<br>US marines ...</td>\n",
       "        <td style=\"padding-left: 1em; padding-right: 1em; text-align: center; vertical-align: top\">The Sun Harbor's Chorus-<br>Documentary Recordings ...</td>\n",
       "        <td style=\"padding-left: 1em; padding-right: 1em; text-align: center; vertical-align: top\">0</td>\n",
       "    </tr>\n",
       "</table>\n",
       "[10 rows x 5 columns]<br/>\n",
       "</div>"
      ],
      "text/plain": [
       "Columns:\n",
       "\tsong_id\tstr\n",
       "\ttitle\tstr\n",
       "\trelease\tstr\n",
       "\tartist_name\tstr\n",
       "\tyear\tint\n",
       "\n",
       "Rows: 10\n",
       "\n",
       "Data:\n",
       "+--------------------+-------------------------------+\n",
       "|      song_id       |             title             |\n",
       "+--------------------+-------------------------------+\n",
       "| SOQMMHC12AB0180CB8 |          Silent Night         |\n",
       "| SOVFVAK12A8C1350D9 |          Tanssi vaan          |\n",
       "| SOGTUKN12AB017F4F1 |       No One Could Ever       |\n",
       "| SOBNYVR12A8C13558C |         Si Vos Querés         |\n",
       "| SOHSBXH12A8C13B0DF |        Tangle Of Aspens       |\n",
       "| SOZVAPQ12A8C13B63C | Symphony No. 1 G minor \"Si... |\n",
       "| SOQVRHI12A6D4FB2D7 |        We Have Got Love       |\n",
       "| SOEYRFT12AB018936C |       2 Da Beat Ch'yall       |\n",
       "| SOPMIYT12A6D4F851E |            Goodbye            |\n",
       "| SOJCFMH12A8C13B0C2 |   Mama_ mama can't you see ?  |\n",
       "+--------------------+-------------------------------+\n",
       "+-------------------------------+-------------------------------+------+\n",
       "|            release            |          artist_name          | year |\n",
       "+-------------------------------+-------------------------------+------+\n",
       "|     Monster Ballads X-Mas     |        Faster Pussy cat       | 2003 |\n",
       "|          Karkuteillä          |        Karkkiautomaatti       | 1995 |\n",
       "|             Butter            |         Hudson Mohawke        | 2006 |\n",
       "|            De Culo            |          Yerba Brava          | 2003 |\n",
       "| Rene Ablaze Presents Winte... |           Der Mystic          |  0   |\n",
       "| Berwald: Symphonies Nos. 1... |        David Montgomery       |  0   |\n",
       "|   Strictly The Best Vol. 34   |       Sasha / Turbulence      |  0   |\n",
       "|            Da Bomb            |           Kris Kross          | 1993 |\n",
       "|           Danny Boy           |          Joseph Locke         |  0   |\n",
       "| March to cadence with the ... | The Sun Harbor's Chorus-Do... |  0   |\n",
       "+-------------------------------+-------------------------------+------+\n",
       "[10 rows x 5 columns]"
      ]
     },
     "execution_count": 5,
     "metadata": {},
     "output_type": "execute_result"
    }
   ],
   "source": [
    "song.head()"
   ]
  },
  {
   "cell_type": "code",
   "execution_count": 6,
   "metadata": {
    "collapsed": false
   },
   "outputs": [
    {
     "data": {
      "text/plain": [
       "1030.3256520000118"
      ]
     },
     "execution_count": 6,
     "metadata": {},
     "output_type": "execute_result"
    }
   ],
   "source": [
    "song['year'].mean()"
   ]
  },
  {
   "cell_type": "markdown",
   "metadata": {},
   "source": [
    "# Transforming columns"
   ]
  },
  {
   "cell_type": "code",
   "execution_count": 9,
   "metadata": {
    "collapsed": false
   },
   "outputs": [
    {
     "data": {
      "text/html": [
       "<div style=\"max-height:1000px;max-width:1500px;overflow:auto;\"><table frame=\"box\" rules=\"cols\">\n",
       "    <tr>\n",
       "        <th style=\"padding-left: 1em; padding-right: 1em; text-align: center\">song_id</th>\n",
       "        <th style=\"padding-left: 1em; padding-right: 1em; text-align: center\">title</th>\n",
       "        <th style=\"padding-left: 1em; padding-right: 1em; text-align: center\">release</th>\n",
       "        <th style=\"padding-left: 1em; padding-right: 1em; text-align: center\">artist_name</th>\n",
       "        <th style=\"padding-left: 1em; padding-right: 1em; text-align: center\">year</th>\n",
       "        <th style=\"padding-left: 1em; padding-right: 1em; text-align: center\">num_words</th>\n",
       "    </tr>\n",
       "    <tr>\n",
       "        <td style=\"padding-left: 1em; padding-right: 1em; text-align: center; vertical-align: top\">SOQMMHC12AB0180CB8</td>\n",
       "        <td style=\"padding-left: 1em; padding-right: 1em; text-align: center; vertical-align: top\">Silent Night</td>\n",
       "        <td style=\"padding-left: 1em; padding-right: 1em; text-align: center; vertical-align: top\">Monster Ballads X-Mas</td>\n",
       "        <td style=\"padding-left: 1em; padding-right: 1em; text-align: center; vertical-align: top\">Faster Pussy cat</td>\n",
       "        <td style=\"padding-left: 1em; padding-right: 1em; text-align: center; vertical-align: top\">2003</td>\n",
       "        <td style=\"padding-left: 1em; padding-right: 1em; text-align: center; vertical-align: top\">2</td>\n",
       "    </tr>\n",
       "    <tr>\n",
       "        <td style=\"padding-left: 1em; padding-right: 1em; text-align: center; vertical-align: top\">SOVFVAK12A8C1350D9</td>\n",
       "        <td style=\"padding-left: 1em; padding-right: 1em; text-align: center; vertical-align: top\">Tanssi vaan</td>\n",
       "        <td style=\"padding-left: 1em; padding-right: 1em; text-align: center; vertical-align: top\">Karkuteillä</td>\n",
       "        <td style=\"padding-left: 1em; padding-right: 1em; text-align: center; vertical-align: top\">Karkkiautomaatti</td>\n",
       "        <td style=\"padding-left: 1em; padding-right: 1em; text-align: center; vertical-align: top\">1995</td>\n",
       "        <td style=\"padding-left: 1em; padding-right: 1em; text-align: center; vertical-align: top\">2</td>\n",
       "    </tr>\n",
       "    <tr>\n",
       "        <td style=\"padding-left: 1em; padding-right: 1em; text-align: center; vertical-align: top\">SOGTUKN12AB017F4F1</td>\n",
       "        <td style=\"padding-left: 1em; padding-right: 1em; text-align: center; vertical-align: top\">No One Could Ever</td>\n",
       "        <td style=\"padding-left: 1em; padding-right: 1em; text-align: center; vertical-align: top\">Butter</td>\n",
       "        <td style=\"padding-left: 1em; padding-right: 1em; text-align: center; vertical-align: top\">Hudson Mohawke</td>\n",
       "        <td style=\"padding-left: 1em; padding-right: 1em; text-align: center; vertical-align: top\">2006</td>\n",
       "        <td style=\"padding-left: 1em; padding-right: 1em; text-align: center; vertical-align: top\">4</td>\n",
       "    </tr>\n",
       "    <tr>\n",
       "        <td style=\"padding-left: 1em; padding-right: 1em; text-align: center; vertical-align: top\">SOBNYVR12A8C13558C</td>\n",
       "        <td style=\"padding-left: 1em; padding-right: 1em; text-align: center; vertical-align: top\">Si Vos Querés</td>\n",
       "        <td style=\"padding-left: 1em; padding-right: 1em; text-align: center; vertical-align: top\">De Culo</td>\n",
       "        <td style=\"padding-left: 1em; padding-right: 1em; text-align: center; vertical-align: top\">Yerba Brava</td>\n",
       "        <td style=\"padding-left: 1em; padding-right: 1em; text-align: center; vertical-align: top\">2003</td>\n",
       "        <td style=\"padding-left: 1em; padding-right: 1em; text-align: center; vertical-align: top\">3</td>\n",
       "    </tr>\n",
       "    <tr>\n",
       "        <td style=\"padding-left: 1em; padding-right: 1em; text-align: center; vertical-align: top\">SOHSBXH12A8C13B0DF</td>\n",
       "        <td style=\"padding-left: 1em; padding-right: 1em; text-align: center; vertical-align: top\">Tangle Of Aspens</td>\n",
       "        <td style=\"padding-left: 1em; padding-right: 1em; text-align: center; vertical-align: top\">Rene Ablaze Presents<br>Winter Sessions ...</td>\n",
       "        <td style=\"padding-left: 1em; padding-right: 1em; text-align: center; vertical-align: top\">Der Mystic</td>\n",
       "        <td style=\"padding-left: 1em; padding-right: 1em; text-align: center; vertical-align: top\">0</td>\n",
       "        <td style=\"padding-left: 1em; padding-right: 1em; text-align: center; vertical-align: top\">3</td>\n",
       "    </tr>\n",
       "    <tr>\n",
       "        <td style=\"padding-left: 1em; padding-right: 1em; text-align: center; vertical-align: top\">SOZVAPQ12A8C13B63C</td>\n",
       "        <td style=\"padding-left: 1em; padding-right: 1em; text-align: center; vertical-align: top\">Symphony No. 1 G minor<br>\"Sinfonie ...</td>\n",
       "        <td style=\"padding-left: 1em; padding-right: 1em; text-align: center; vertical-align: top\">Berwald: Symphonies Nos.<br>1/2/3/4 ...</td>\n",
       "        <td style=\"padding-left: 1em; padding-right: 1em; text-align: center; vertical-align: top\">David Montgomery</td>\n",
       "        <td style=\"padding-left: 1em; padding-right: 1em; text-align: center; vertical-align: top\">0</td>\n",
       "        <td style=\"padding-left: 1em; padding-right: 1em; text-align: center; vertical-align: top\">9</td>\n",
       "    </tr>\n",
       "    <tr>\n",
       "        <td style=\"padding-left: 1em; padding-right: 1em; text-align: center; vertical-align: top\">SOQVRHI12A6D4FB2D7</td>\n",
       "        <td style=\"padding-left: 1em; padding-right: 1em; text-align: center; vertical-align: top\">We Have Got Love</td>\n",
       "        <td style=\"padding-left: 1em; padding-right: 1em; text-align: center; vertical-align: top\">Strictly The Best Vol. 34</td>\n",
       "        <td style=\"padding-left: 1em; padding-right: 1em; text-align: center; vertical-align: top\">Sasha / Turbulence</td>\n",
       "        <td style=\"padding-left: 1em; padding-right: 1em; text-align: center; vertical-align: top\">0</td>\n",
       "        <td style=\"padding-left: 1em; padding-right: 1em; text-align: center; vertical-align: top\">4</td>\n",
       "    </tr>\n",
       "    <tr>\n",
       "        <td style=\"padding-left: 1em; padding-right: 1em; text-align: center; vertical-align: top\">SOEYRFT12AB018936C</td>\n",
       "        <td style=\"padding-left: 1em; padding-right: 1em; text-align: center; vertical-align: top\">2 Da Beat Ch'yall</td>\n",
       "        <td style=\"padding-left: 1em; padding-right: 1em; text-align: center; vertical-align: top\">Da Bomb</td>\n",
       "        <td style=\"padding-left: 1em; padding-right: 1em; text-align: center; vertical-align: top\">Kris Kross</td>\n",
       "        <td style=\"padding-left: 1em; padding-right: 1em; text-align: center; vertical-align: top\">1993</td>\n",
       "        <td style=\"padding-left: 1em; padding-right: 1em; text-align: center; vertical-align: top\">4</td>\n",
       "    </tr>\n",
       "    <tr>\n",
       "        <td style=\"padding-left: 1em; padding-right: 1em; text-align: center; vertical-align: top\">SOPMIYT12A6D4F851E</td>\n",
       "        <td style=\"padding-left: 1em; padding-right: 1em; text-align: center; vertical-align: top\">Goodbye</td>\n",
       "        <td style=\"padding-left: 1em; padding-right: 1em; text-align: center; vertical-align: top\">Danny Boy</td>\n",
       "        <td style=\"padding-left: 1em; padding-right: 1em; text-align: center; vertical-align: top\">Joseph Locke</td>\n",
       "        <td style=\"padding-left: 1em; padding-right: 1em; text-align: center; vertical-align: top\">0</td>\n",
       "        <td style=\"padding-left: 1em; padding-right: 1em; text-align: center; vertical-align: top\">1</td>\n",
       "    </tr>\n",
       "    <tr>\n",
       "        <td style=\"padding-left: 1em; padding-right: 1em; text-align: center; vertical-align: top\">SOJCFMH12A8C13B0C2</td>\n",
       "        <td style=\"padding-left: 1em; padding-right: 1em; text-align: center; vertical-align: top\">Mama_ mama can't you see<br>? ...</td>\n",
       "        <td style=\"padding-left: 1em; padding-right: 1em; text-align: center; vertical-align: top\">March to cadence with the<br>US marines ...</td>\n",
       "        <td style=\"padding-left: 1em; padding-right: 1em; text-align: center; vertical-align: top\">The Sun Harbor's Chorus-<br>Documentary Recordings ...</td>\n",
       "        <td style=\"padding-left: 1em; padding-right: 1em; text-align: center; vertical-align: top\">0</td>\n",
       "        <td style=\"padding-left: 1em; padding-right: 1em; text-align: center; vertical-align: top\">6</td>\n",
       "    </tr>\n",
       "</table>\n",
       "[1000000 rows x 6 columns]<br/>Note: Only the head of the SFrame is printed.<br/>You can use print_rows(num_rows=m, num_columns=n) to print more rows and columns.\n",
       "</div>"
      ],
      "text/plain": [
       "Columns:\n",
       "\tsong_id\tstr\n",
       "\ttitle\tstr\n",
       "\trelease\tstr\n",
       "\tartist_name\tstr\n",
       "\tyear\tint\n",
       "\tnum_words\tint\n",
       "\n",
       "Rows: 1000000\n",
       "\n",
       "Data:\n",
       "+--------------------+-------------------------------+\n",
       "|      song_id       |             title             |\n",
       "+--------------------+-------------------------------+\n",
       "| SOQMMHC12AB0180CB8 |          Silent Night         |\n",
       "| SOVFVAK12A8C1350D9 |          Tanssi vaan          |\n",
       "| SOGTUKN12AB017F4F1 |       No One Could Ever       |\n",
       "| SOBNYVR12A8C13558C |         Si Vos Querés         |\n",
       "| SOHSBXH12A8C13B0DF |        Tangle Of Aspens       |\n",
       "| SOZVAPQ12A8C13B63C | Symphony No. 1 G minor \"Si... |\n",
       "| SOQVRHI12A6D4FB2D7 |        We Have Got Love       |\n",
       "| SOEYRFT12AB018936C |       2 Da Beat Ch'yall       |\n",
       "| SOPMIYT12A6D4F851E |            Goodbye            |\n",
       "| SOJCFMH12A8C13B0C2 |   Mama_ mama can't you see ?  |\n",
       "+--------------------+-------------------------------+\n",
       "+-------------------------------+-------------------------------+------+-----------+\n",
       "|            release            |          artist_name          | year | num_words |\n",
       "+-------------------------------+-------------------------------+------+-----------+\n",
       "|     Monster Ballads X-Mas     |        Faster Pussy cat       | 2003 |     2     |\n",
       "|          Karkuteillä          |        Karkkiautomaatti       | 1995 |     2     |\n",
       "|             Butter            |         Hudson Mohawke        | 2006 |     4     |\n",
       "|            De Culo            |          Yerba Brava          | 2003 |     3     |\n",
       "| Rene Ablaze Presents Winte... |           Der Mystic          |  0   |     3     |\n",
       "| Berwald: Symphonies Nos. 1... |        David Montgomery       |  0   |     9     |\n",
       "|   Strictly The Best Vol. 34   |       Sasha / Turbulence      |  0   |     4     |\n",
       "|            Da Bomb            |           Kris Kross          | 1993 |     4     |\n",
       "|           Danny Boy           |          Joseph Locke         |  0   |     1     |\n",
       "| March to cadence with the ... | The Sun Harbor's Chorus-Do... |  0   |     6     |\n",
       "+-------------------------------+-------------------------------+------+-----------+\n",
       "[1000000 rows x 6 columns]\n",
       "Note: Only the head of the SFrame is printed.\n",
       "You can use print_rows(num_rows=m, num_columns=n) to print more rows and columns."
      ]
     },
     "execution_count": 9,
     "metadata": {},
     "output_type": "execute_result"
    }
   ],
   "source": [
    "song['num_words']= song['title'].apply(lambda x : len(x.split(' ')))\n",
    "song"
   ]
  },
  {
   "cell_type": "markdown",
   "metadata": {},
   "source": [
    "## Agregation"
   ]
  },
  {
   "cell_type": "code",
   "execution_count": 10,
   "metadata": {
    "collapsed": false
   },
   "outputs": [
    {
     "data": {
      "text/html": [
       "<div style=\"max-height:1000px;max-width:1500px;overflow:auto;\"><table frame=\"box\" rules=\"cols\">\n",
       "    <tr>\n",
       "        <th style=\"padding-left: 1em; padding-right: 1em; text-align: center\">artist_name</th>\n",
       "        <th style=\"padding-left: 1em; padding-right: 1em; text-align: center\">total</th>\n",
       "    </tr>\n",
       "    <tr>\n",
       "        <td style=\"padding-left: 1em; padding-right: 1em; text-align: center; vertical-align: top\">Gary Lewis &amp; The Playboys</td>\n",
       "        <td style=\"padding-left: 1em; padding-right: 1em; text-align: center; vertical-align: top\">45</td>\n",
       "    </tr>\n",
       "    <tr>\n",
       "        <td style=\"padding-left: 1em; padding-right: 1em; text-align: center; vertical-align: top\">The Dells</td>\n",
       "        <td style=\"padding-left: 1em; padding-right: 1em; text-align: center; vertical-align: top\">54</td>\n",
       "    </tr>\n",
       "    <tr>\n",
       "        <td style=\"padding-left: 1em; padding-right: 1em; text-align: center; vertical-align: top\">DJ Konnat</td>\n",
       "        <td style=\"padding-left: 1em; padding-right: 1em; text-align: center; vertical-align: top\">1</td>\n",
       "    </tr>\n",
       "    <tr>\n",
       "        <td style=\"padding-left: 1em; padding-right: 1em; text-align: center; vertical-align: top\">VULTURE WHALE</td>\n",
       "        <td style=\"padding-left: 1em; padding-right: 1em; text-align: center; vertical-align: top\">11</td>\n",
       "    </tr>\n",
       "    <tr>\n",
       "        <td style=\"padding-left: 1em; padding-right: 1em; text-align: center; vertical-align: top\">Martha Argerich/Kathia<br>Buniatishvili/Dora ...</td>\n",
       "        <td style=\"padding-left: 1em; padding-right: 1em; text-align: center; vertical-align: top\">1</td>\n",
       "    </tr>\n",
       "    <tr>\n",
       "        <td style=\"padding-left: 1em; padding-right: 1em; text-align: center; vertical-align: top\">S.S featuring Jp_ Mar Da<br>Cigar Splitter ...</td>\n",
       "        <td style=\"padding-left: 1em; padding-right: 1em; text-align: center; vertical-align: top\">1</td>\n",
       "    </tr>\n",
       "    <tr>\n",
       "        <td style=\"padding-left: 1em; padding-right: 1em; text-align: center; vertical-align: top\">Ian Astbury</td>\n",
       "        <td style=\"padding-left: 1em; padding-right: 1em; text-align: center; vertical-align: top\">11</td>\n",
       "    </tr>\n",
       "    <tr>\n",
       "        <td style=\"padding-left: 1em; padding-right: 1em; text-align: center; vertical-align: top\">Big L / Kool G Rap</td>\n",
       "        <td style=\"padding-left: 1em; padding-right: 1em; text-align: center; vertical-align: top\">1</td>\n",
       "    </tr>\n",
       "    <tr>\n",
       "        <td style=\"padding-left: 1em; padding-right: 1em; text-align: center; vertical-align: top\">Son House</td>\n",
       "        <td style=\"padding-left: 1em; padding-right: 1em; text-align: center; vertical-align: top\">106</td>\n",
       "    </tr>\n",
       "    <tr>\n",
       "        <td style=\"padding-left: 1em; padding-right: 1em; text-align: center; vertical-align: top\">Lil Wayne / BG</td>\n",
       "        <td style=\"padding-left: 1em; padding-right: 1em; text-align: center; vertical-align: top\">1</td>\n",
       "    </tr>\n",
       "</table>\n",
       "[72664 rows x 2 columns]<br/>Note: Only the head of the SFrame is printed.<br/>You can use print_rows(num_rows=m, num_columns=n) to print more rows and columns.\n",
       "</div>"
      ],
      "text/plain": [
       "Columns:\n",
       "\tartist_name\tstr\n",
       "\ttotal\tint\n",
       "\n",
       "Rows: 72664\n",
       "\n",
       "Data:\n",
       "+-------------------------------+-------+\n",
       "|          artist_name          | total |\n",
       "+-------------------------------+-------+\n",
       "|   Gary Lewis & The Playboys   |   45  |\n",
       "|           The Dells           |   54  |\n",
       "|           DJ Konnat           |   1   |\n",
       "|         VULTURE WHALE         |   11  |\n",
       "| Martha Argerich/Kathia Bun... |   1   |\n",
       "| S.S featuring Jp_ Mar Da C... |   1   |\n",
       "|          Ian Astbury          |   11  |\n",
       "|       Big L / Kool G Rap      |   1   |\n",
       "|           Son House           |  106  |\n",
       "|         Lil Wayne / BG        |   1   |\n",
       "+-------------------------------+-------+\n",
       "[72664 rows x 2 columns]\n",
       "Note: Only the head of the SFrame is printed.\n",
       "You can use print_rows(num_rows=m, num_columns=n) to print more rows and columns."
      ]
     },
     "execution_count": 10,
     "metadata": {},
     "output_type": "execute_result"
    }
   ],
   "source": [
    "song.groupby('artist_name', {'total':gl.aggregate.COUNT})"
   ]
  },
  {
   "cell_type": "markdown",
   "metadata": {},
   "source": [
    "## Regresssion model"
   ]
  },
  {
   "cell_type": "code",
   "execution_count": 13,
   "metadata": {
    "collapsed": false
   },
   "outputs": [
    {
     "name": "stdout",
     "output_type": "stream",
     "text": [
      "PROGRESS: Downloading http://s3.amazonaws.com/dato-datasets/regression/Housing.csv to /var/tmp/graphlab-zax/16203/3e472d59-83ab-4cf8-8a1a-b8fbeb638439.csv\n",
      "PROGRESS: Finished parsing file http://s3.amazonaws.com/dato-datasets/regression/Housing.csv\n",
      "PROGRESS: Parsing completed. Parsed 100 lines in 0.049366 secs.\n",
      "------------------------------------------------------\n",
      "Inferred types from first line of file as \n",
      "column_type_hints=[int,int,int,int,int,int,str,str,str,str,str,int,str]\n",
      "If parsing fails due to incorrect types, you can correct\n",
      "the inferred type list above and pass it to read_csv in\n",
      "the column_type_hints argument\n",
      "------------------------------------------------------\n",
      "PROGRESS: Finished parsing file http://s3.amazonaws.com/dato-datasets/regression/Housing.csv\n",
      "PROGRESS: Parsing completed. Parsed 546 lines in 0.018493 secs.\n",
      "PROGRESS: Creating a validation set from 5 percent of training data. This may take a while.\n",
      "          You can set ``validation_set=None`` to disable validation tracking.\n",
      "\n",
      "PROGRESS: Linear regression:\n",
      "PROGRESS: --------------------------------------------------------\n",
      "PROGRESS: Number of examples          : 518\n",
      "PROGRESS: Number of features          : 12\n",
      "PROGRESS: Number of unpacked features : 12\n",
      "PROGRESS: Number of coefficients    : 13\n",
      "PROGRESS: Starting Newton Method\n",
      "PROGRESS: --------------------------------------------------------\n",
      "PROGRESS: +-----------+----------+--------------+--------------------+----------------------+---------------+-----------------+\n",
      "PROGRESS: | Iteration | Passes   | Elapsed Time | Training-max_error | Validation-max_error | Training-rmse | Validation-rmse |\n",
      "PROGRESS: +-----------+----------+--------------+--------------------+----------------------+---------------+-----------------+\n",
      "PROGRESS: | 1         | 2        | 1.003654     | 97059.006065       | 34861.599338         | 15799.058155  | 16005.847610    |\n",
      "PROGRESS: +-----------+----------+--------------+--------------------+----------------------+---------------+-----------------+\n"
     ]
    }
   ],
   "source": [
    "url = 'http://s3.amazonaws.com/dato-datasets/regression/Housing.csv'\n",
    "x = gl.SFrame.read_csv(url)\n",
    "model = gl.linear_regression.create(x, target='price')"
   ]
  },
  {
   "cell_type": "code",
   "execution_count": 16,
   "metadata": {
    "collapsed": false
   },
   "outputs": [
    {
     "data": {
      "application/javascript": [
       "$(\"head\").append($(\"<link/>\").attr({\n",
       "  rel:  \"stylesheet\",\n",
       "  type: \"text/css\",\n",
       "  href: \"//cdnjs.cloudflare.com/ajax/libs/font-awesome/4.1.0/css/font-awesome.min.css\"\n",
       "}));\n",
       "$(\"head\").append($(\"<link/>\").attr({\n",
       "  rel:  \"stylesheet\",\n",
       "  type: \"text/css\",\n",
       "  href: \"//dato.com/files/canvas/1.6.1/css/canvas.css\"\n",
       "}));\n",
       "\n",
       "            (function(){\n",
       "\n",
       "                var e = null;\n",
       "                if (typeof element == 'undefined') {\n",
       "                    var scripts = document.getElementsByTagName('script');\n",
       "                    var thisScriptTag = scripts[scripts.length-1];\n",
       "                    var parentDiv = thisScriptTag.parentNode;\n",
       "                    e = document.createElement('div');\n",
       "                    parentDiv.appendChild(e);\n",
       "                } else {\n",
       "                    e = element[0];\n",
       "                }\n",
       "\n",
       "                if (typeof requirejs !== 'undefined') {\n",
       "                    // disable load timeout; ipython_app.js is large and can take a while to load.\n",
       "                    requirejs.config({waitSeconds: 0});\n",
       "                }\n",
       "\n",
       "                require(['//dato.com/files/canvas/1.6.1/js/ipython_app.js'], function(IPythonApp){\n",
       "                    var app = new IPythonApp();\n",
       "                    app.attachView('sframe','Plots', {\"selected_variable\": {\"name\": [\"song\"], \"descriptives\": {\"rows\": 1000000, \"columns\": 6}, \"view_component\": \"Plots\", \"view_file\": \"sframe\", \"view_params\": {\"y\": \"release\", \"x\": \"year\", \"columns\": [\"song_id\", \"title\", \"release\", \"artist_name\", \"year\", \"num_words\"], \"view\": \"Scatter Plot\"}, \"view_components\": [\"Summary\", \"Table\", \"Bar Chart\", \"BoxWhisker Plot\", \"Line Chart\", \"Scatter Plot\", \"Heat Map\", \"Plots\"], \"type\": \"SFrame\", \"columns\": [{\"dtype\": \"str\", \"name\": \"song_id\"}, {\"dtype\": \"str\", \"name\": \"title\"}, {\"dtype\": \"str\", \"name\": \"release\"}, {\"dtype\": \"str\", \"name\": \"artist_name\"}, {\"dtype\": \"int\", \"name\": \"year\"}, {\"dtype\": \"int\", \"name\": \"num_words\"}], \"column_identifiers\": [\"song_id\", \"title\", \"artist_name\", \"year\", \"release\", \"num_words\"]}, \"complete\": 1, \"ipython\": true, \"progress\": 1.0, \"data\": [[2001, 2], [0, 6], [1969, 5], [2009, 1], [1987, 1], [1980, 1], [0, 3], [2003, 7], [0, 7], [0, 10], [2007, 5], [2004, 3], [1979, 1], [2002, 3], [0, 7], [1993, 4], [2002, 2], [1986, 3], [2003, 5], [1980, 3], [1993, 3], [1999, 10], [0, 3], [2004, 3], [2005, 6], [0, 2], [0, 1], [1995, 1], [1992, 5], [0, 3], [0, 11], [0, 2], [1988, 2], [0, 4], [0, 2], [1983, 1], [2003, 1], [2006, 4], [1990, 1], [0, 3], [2006, 2], [0, 7], [2005, 1], [0, 4], [0, 3], [0, 6], [0, 10], [0, 3], [1981, 1], [2001, 2], [0, 6], [2006, 2], [1982, 2], [1981, 1], [2000, 3], [0, 7], [0, 8], [2009, 2], [1989, 12], [2007, 1], [2005, 5], [1976, 6], [2002, 2], [0, 1], [1997, 2], [2007, 2], [0, 2], [2003, 3], [0, 1], [0, 1], [0, 2], [1978, 4], [1998, 3], [0, 2], [2002, 1], [0, 1], [2009, 3], [2005, 8], [0, 4], [0, 5], [0, 6], [0, 2], [2004, 2], [0, 1], [1988, 3], [0, 3], [0, 2], [0, 6], [0, 1], [1990, 2], [1981, 3], [2001, 1], [2008, 5], [0, 2], [0, 3], [1983, 4], [2005, 3], [0, 1], [0, 1], [2006, 1], [0, 4], [0, 3], [0, 5], [1993, 2], [0, 4], [0, 5], [0, 8], [2001, 4], [2003, 2], [0, 1], [1987, 1], [0, 4], [0, 4], [1999, 6], [1994, 4], [2008, 1], [1999, 3], [0, 5], [2009, 1], [1995, 4], [0, 3], [0, 3], [0, 3], [0, 2], [0, 2], [2005, 1], [2008, 5], [1997, 7], [1992, 4], [1967, 4], [1998, 1], [2006, 4], [0, 5], [2006, 4], [0, 3], [1990, 2], [2007, 1], [0, 4], [2008, 1], [1998, 2], [0, 3], [0, 4], [0, 5], [1997, 3], [2005, 5], [0, 1], [0, 6], [2006, 2], [0, 2], [0, 6], [1994, 1], [2007, 2], [2004, 2], [2004, 2], [0, 1], [0, 3], [0, 4], [2007, 2], [2006, 3], [0, 6], [0, 4], [0, 2], [1975, 2], [1968, 3], [2009, 2], [0, 1], [2003, 3], [1997, 4], [0, 1], [2001, 3], [0, 3], [0, 1], [2009, 2], [0, 2], [0, 13], [1999, 3], [0, 2], [0, 3], [2000, 7], [2007, 2], [0, 3], [2008, 2], [0, 3], [1991, 4], [2009, 2], [0, 5], [2001, 2], [1982, 2], [0, 3], [0, 2], [1961, 6], [0, 5], [1994, 4], [2009, 2], [0, 3], [0, 1], [2009, 3], [0, 2], [0, 5], [2004, 4], [2000, 5], [2004, 2], [0, 5], [2006, 1], [1995, 8], [0, 1], [0, 2], [0, 5], [0, 4], [2007, 2], [0, 5], [0, 6], [2009, 2], [0, 6], [1996, 5], [1995, 1], [2007, 1], [0, 3], [0, 2], [2008, 2], [0, 3], [0, 3], [2001, 1], [2009, 1], [2004, 2], [2004, 2], [2000, 1], [0, 10], [2004, 4], [0, 6], [2008, 3], [0, 4], [2010, 5], [2001, 11], [0, 2], [0, 3], [1999, 3], [0, 4], [0, 3], [2001, 1], [0, 6], [1998, 1], [2007, 2], [2009, 10], [2002, 4], [2002, 8], [0, 2], [2007, 3], [0, 7], [2005, 4], [0, 2], [2009, 2], [2007, 5], [1996, 1], [1995, 2], [2007, 4], [0, 8], [2000, 2], [2007, 4], [0, 5], [0, 2], [0, 8], [2004, 1], [0, 5], [2004, 4], [2003, 1], [0, 7], [0, 2], [1965, 1], [1995, 2], [2008, 6], [2009, 5], [1997, 3], [0, 1], [0, 3], [1998, 1], [1996, 8], [1977, 1], [0, 1], [0, 5], [2006, 2], [0, 2], [2003, 3], [0, 1], [0, 1], [0, 1], [2003, 3], [2005, 3], [0, 6], [1997, 1], [2003, 2], [0, 5], [0, 7], [1999, 4], [0, 1], [2002, 7], [0, 4], [2001, 5], [0, 3], [0, 2], [0, 1], [2008, 8], [0, 2], [1986, 5], [2000, 4], [1992, 4], [0, 3], [0, 4], [0, 4], [2002, 5], [0, 4], [0, 1], [2002, 2], [2010, 1], [1975, 1], [2003, 4], [2008, 3], [0, 8], [2000, 1], [0, 2], [1999, 2], [2009, 4], [2007, 2], [2010, 2], [0, 3], [0, 1], [2008, 1], [0, 2], [0, 7], [2010, 5], [0, 5], [0, 2], [0, 7], [1998, 2], [0, 3], [0, 2], [2005, 2], [2005, 1], [0, 2], [2003, 3], [0, 3], [1980, 4], [0, 4], [0, 2], [0, 5], [2003, 4], [2009, 1], [0, 1], [2001, 3], [2005, 1], [0, 1], [2005, 1], [2006, 2], [0, 5], [2008, 6], [2006, 2], [0, 2], [0, 4], [0, 1], [1995, 4], [0, 3], [2006, 1], [2002, 1], [2006, 3], [1991, 1], [0, 1], [0, 2], [2009, 6], [0, 3], [0, 2], [2009, 3], [1994, 1], [0, 3], [0, 4], [1991, 2], [0, 6], [0, 8], [0, 2], [0, 3], [1994, 7], [0, 3], [1993, 5], [1999, 4], [0, 1], [1999, 2], [0, 2], [2000, 1], [0, 4], [0, 2], [0, 3], [1993, 8], [2007, 3], [0, 3], [1985, 1], [2005, 2], [2008, 4], [0, 5], [2005, 5], [0, 8], [0, 1], [0, 2], [1967, 2], [0, 4], [2001, 1], [1977, 1], [2009, 4], [0, 2], [1973, 2], [2007, 2], [2003, 1], [0, 10], [1989, 6], [0, 8], [2004, 3], [2008, 3], [0, 2], [2006, 5], [2003, 3], [0, 3], [2005, 2], [1986, 1], [1968, 4], [0, 3], [1980, 3], [0, 2], [1999, 5], [1987, 4], [1969, 2], [2006, 2], [0, 2], [2002, 2], [1956, 5], [2010, 2], [0, 1], [0, 1], [0, 2], [0, 3], [2006, 4], [1989, 5], [2010, 6], [1996, 1], [1999, 3], [2008, 1], [0, 6], [1955, 11], [2004, 1], [0, 3], [2007, 2], [0, 3], [2001, 3], [2003, 2], [0, 3], [1974, 5], [0, 3], [1997, 2], [2000, 4], [1980, 1], [0, 2], [2000, 4], [2008, 3], [0, 2], [2006, 2], [0, 5], [2008, 3], [2008, 3], [0, 2], [2003, 3], [1985, 9], [0, 3], [0, 1], [0, 3], [0, 2], [0, 3], [1992, 1], [0, 2], [0, 3], [0, 4], [1997, 2], [0, 2], [0, 3], [1989, 3], [0, 14], [0, 2], [0, 4], [2005, 4], [1996, 2], [0, 4], [0, 3], [2005, 3], [0, 1], [0, 2], [1998, 1], [1990, 2], [2003, 3], [2004, 4], [0, 2], [2007, 3], [0, 2], [1991, 4], [2007, 4], [2003, 5], [2005, 1], [0, 2], [1993, 5], [2007, 4], [1982, 2], [2005, 1], [1984, 4], [2009, 2], [0, 5], [1994, 3], [2009, 7], [2006, 7], [0, 1], [1998, 3], [2007, 1], [2006, 2], [0, 2], [2008, 1], [2002, 2], [0, 3], [0, 15], [0, 3], [1997, 6], [2008, 1], [2006, 4], [0, 9], [0, 3], [0, 2], [2007, 3], [0, 2], [0, 2], [1973, 6], [0, 1], [0, 4], [0, 4], [0, 1], [1971, 4], [0, 2], [2004, 3], [2007, 2], [2009, 1], [0, 2], [2007, 5], [0, 2], [0, 4], [0, 5], [1970, 3], [2005, 1], [0, 1], [1989, 1], [2007, 3], [0, 4], [0, 3], [0, 1], [0, 12], [0, 9], [2009, 5], [0, 3], [0, 5], [2007, 2], [0, 2], [0, 2], [1993, 4], [2005, 3], [2002, 4], [2004, 2], [0, 6], [1999, 2], [2007, 6], [1991, 2], [2008, 3], [2003, 2], [0, 2], [0, 3], [1989, 5], [0, 10], [1994, 4], [0, 3], [0, 4], [0, 14], [0, 2], [0, 4], [0, 6], [2004, 3], [1983, 6], [0, 4], [0, 4], [0, 6], [0, 5], [1991, 3], [2001, 2], [0, 3], [1967, 2], [2004, 6], [0, 7], [2001, 1], [2007, 3], [2008, 1], [0, 2], [0, 5], [0, 5], [2001, 7], [0, 3], [2004, 1], [1990, 5], [1957, 4], [0, 4], [2003, 1], [0, 2], [2001, 4], [1997, 4], [0, 3], [2003, 5], [0, 1], [0, 4], [2002, 2], [2007, 1], [1971, 3], [0, 5], [0, 3], [1993, 1], [2004, 1], [2003, 3], [2008, 4], [2000, 1], [2009, 2], [0, 4], [1976, 2], [2004, 1], [0, 2], [2004, 4], [0, 3], [2001, 2], [2002, 2], [0, 9], [0, 5], [2002, 1], [0, 3], [2009, 2], [0, 2], [0, 2], [0, 6], [2005, 3], [0, 7], [2005, 3], [2004, 2], [0, 3], [0, 5], [0, 2], [0, 4], [0, 3], [1982, 5], [0, 2], [0, 8], [0, 4], [0, 2], [0, 1], [0, 2], [1995, 7], [0, 4], [0, 6], [0, 5], [0, 1], [2005, 3], [0, 2], [1981, 5], [0, 5], [0, 2], [0, 3], [2009, 1], [1995, 2], [1996, 4], [0, 1], [0, 8], [0, 4], [1999, 1], [0, 2], [0, 5], [0, 3], [2003, 1], [0, 5], [0, 7], [2005, 4], [2001, 6], [2009, 2], [0, 3], [0, 8], [2005, 5], [0, 4], [0, 1], [0, 7], [0, 5], [2005, 2], [2008, 5], [0, 2], [0, 4], [2007, 2], [1999, 3], [1980, 1], [0, 4], [0, 8], [1973, 9], [2006, 1], [0, 3], [1994, 3], [2009, 3], [1978, 5], [0, 2], [0, 2], [0, 11], [2003, 4], [2008, 3], [0, 2], [1997, 2], [2003, 2], [1978, 1], [0, 4], [2007, 1], [0, 2], [1993, 2], [0, 6], [0, 2], [0, 5], [1985, 2], [0, 7], [0, 5], [2003, 1], [2007, 4], [1982, 3], [0, 1], [2006, 3], [2009, 5], [0, 1], [0, 2], [0, 9], [0, 2], [1996, 1], [0, 3], [0, 3], [2009, 2], [0, 7], [2006, 4], [2005, 2], [1997, 2], [2004, 1], [0, 3], [0, 4], [1974, 2], [0, 4], [0, 5], [1996, 10], [0, 1], [2007, 2], [1996, 3], [1970, 2], [0, 2], [2003, 1], [2005, 3], [1965, 5], [2010, 2], [2008, 2], [0, 3], [0, 3], [0, 7], [0, 7], [2007, 6], [2001, 3], [2007, 4], [1981, 4], [1994, 4], [0, 3], [1988, 2], [0, 2], [2005, 6], [0, 2], [2010, 3], [0, 3], [0, 1], [2000, 3], [0, 4], [0, 7], [0, 2], [2002, 2], [0, 2], [0, 9], [2007, 1], [2003, 1], [0, 7], [2006, 2], [0, 3], [0, 2], [0, 7], [0, 2], [2000, 3], [2007, 4], [0, 7], [1977, 3], [2004, 3], [1999, 5], [2007, 2], [2006, 4], [1997, 1], [0, 1], [2007, 1], [1997, 3], [0, 5], [1988, 1], [2001, 3], [0, 5], [0, 3], [0, 2], [1974, 2], [0, 5], [1998, 4], [1995, 2], [0, 2], [2002, 1], [0, 9], [1995, 2], [2000, 4], [2003, 3], [0, 4], [2006, 4], [2005, 2], [0, 2], [0, 4], [2003, 3], [2008, 2], [0, 2], [0, 7], [0, 6], [0, 4], [0, 5], [2000, 3], [1998, 1], [1975, 5], [0, 4], [0, 1], [2005, 2], [1999, 2], [1993, 3], [2008, 1], [1992, 4], [0, 2], [0, 6], [0, 2], [0, 6], [1992, 1], [0, 3], [0, 1], [0, 6], [2007, 2], [2006, 5], [0, 2], [0, 4], [2008, 4], [1999, 2], [2006, 1], [1994, 7], [0, 2], [2003, 4], [0, 4], [0, 6], [1994, 1], [0, 3], [0, 3], [2004, 6], [2006, 6], [0, 4], [2002, 5], [2005, 3], [0, 2], [0, 10], [2004, 4], [1980, 2], [1999, 1], [1974, 4], [1967, 3], [0, 4], [0, 3], [2009, 2], [2006, 4], [0, 4], [0, 6], [2010, 6], [0, 3], [2000, 3], [0, 1], [2007, 2], [2006, 1], [0, 3], [1993, 2], [1997, 2], [1992, 1], [0, 3], [2009, 2], [0, 1], [2008, 1], [0, 2], [0, 3], [2001, 2], [1965, 3], [1965, 2], [2008, 1], [0, 2], [0, 6], [0, 2], [2008, 3], [2008, 1], [0, 2], [0, 7], [2009, 4], [0, 6], [0, 3], [0, 5], [2005, 3], [0, 3], [0, 4], [1982, 3], [0, 3], [0, 1], [2006, 3], [0, 5], [0, 2], [2006, 3], [1999, 2], [1996, 1], [1973, 3], [0, 2], [2004, 4], [1991, 3], [0, 6], [0, 2], [1983, 4], [1993, 2], [0, 1], [1977, 3], [2005, 2], [2000, 5], [0, 3], [0, 2], [0, 1], [2009, 4], [2002, 2], [1992, 5], [0, 2], [1998, 2], [2003, 1], [1987, 4], [0, 1], [0, 2], [0, 3], [0, 3], [2006, 3], [2000, 1], [0, 4], [1990, 3], [1980, 1], [0, 3], [2002, 4], [2009, 6], [2005, 2], [0, 8], [1962, 1], [2006, 2], [2000, 2], [2006, 2], [2004, 1], [0, 2], [0, 3], [1999, 4], [0, 3], [2010, 1], [0, 2], [2000, 3], [1995, 2], [2009, 4], [1992, 2], [0, 1], [2008, 6], [2008, 3], [0, 6], [1998, 3], [2005, 8], [2005, 2], [0, 3], [2009, 1], [1986, 2], [0, 3], [0, 5], [1999, 6], [2005, 2], [0, 3], [1995, 2], [2006, 2], [1998, 6], [0, 3], [2005, 3], [2003, 1]], \"columns\": [{\"dtype\": \"str\", \"name\": \"song_id\"}, {\"dtype\": \"str\", \"name\": \"title\"}, {\"dtype\": \"str\", \"name\": \"release\"}, {\"dtype\": \"str\", \"name\": \"artist_name\"}, {\"dtype\": \"int\", \"name\": \"year\"}, {\"dtype\": \"int\", \"name\": \"num_words\"}]}, e);\n",
       "                });\n",
       "            })();\n",
       "        "
      ]
     },
     "metadata": {},
     "output_type": "display_data"
    }
   ],
   "source": [
    "gl.canvas.set_target('ipynb')\n",
    "song.show(view=\"Scatter Plot\", x=\"year\", y=\"release\")"
   ]
  },
  {
   "cell_type": "code",
   "execution_count": null,
   "metadata": {
    "collapsed": true
   },
   "outputs": [],
   "source": []
  }
 ],
 "metadata": {
  "kernelspec": {
   "display_name": "Python 2",
   "language": "python",
   "name": "python2"
  },
  "language_info": {
   "codemirror_mode": {
    "name": "ipython",
    "version": 2
   },
   "file_extension": ".py",
   "mimetype": "text/x-python",
   "name": "python",
   "nbconvert_exporter": "python",
   "pygments_lexer": "ipython2",
   "version": "2.7.10"
  }
 },
 "nbformat": 4,
 "nbformat_minor": 0
}
